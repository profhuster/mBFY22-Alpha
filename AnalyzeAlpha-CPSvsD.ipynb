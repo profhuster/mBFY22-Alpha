{
 "cells": [
  {
   "cell_type": "code",
   "execution_count": 1,
   "id": "960fe829",
   "metadata": {},
   "outputs": [],
   "source": [
    "import numpy as np\n",
    "import matplotlib.pyplot as plt\n",
    "from glob import glob\n",
    "from scipy.stats import poisson\n",
    "from scipy.stats import norm\n",
    "\n",
    "%matplotlib inline\n"
   ]
  },
  {
   "cell_type": "code",
   "execution_count": 2,
   "id": "c2a09206",
   "metadata": {},
   "outputs": [
    {
     "name": "stdout",
     "output_type": "stream",
     "text": [
      "123.5 ± 3.5e3\n"
     ]
    }
   ],
   "source": [
    "from math import log10\n",
    "def eng_str(x, u=0, n=1):\n",
    "    \"\"\"Print formatted value and its uncertainty in engineering format\"\"\"\n",
    "    y = abs(x)\n",
    "    exponent = int(log10(y))\n",
    "    engr_exponent = exponent - exponent%3\n",
    "    z = y/10**engr_exponent\n",
    "    sign = '-' if x < 0 else ''\n",
    "    fmt = \"{z:.%df}\" % (n)\n",
    "    xStr = sign+fmt.format(z=z)\n",
    "    \n",
    "    # uncertainty\n",
    "    yU = abs(u)\n",
    "    zU = yU/10**engr_exponent\n",
    "    fmtU = \"{zU:.%df}\" % (n)\n",
    "    if engr_exponent != 0:\n",
    "        uStr = \" ± \"+fmtU.format(zU=zU)+'e'+str(engr_exponent)\n",
    "    else:\n",
    "        uStr = \" ± \"+fmtU.format(zU=zU)\n",
    "    return xStr + uStr\n",
    "\n",
    "print(eng_str(123456, 3456, n=1))"
   ]
  },
  {
   "cell_type": "code",
   "execution_count": 21,
   "id": "7b3e8f90",
   "metadata": {},
   "outputs": [
    {
     "name": "stdout",
     "output_type": "stream",
     "text": [
      "  0: Data/2022-06-07-2031-2_0mm.csv\n",
      "  1: Data/2022-06-07-2038-10_0mm.csv\n",
      "  2: Data/2022-06-07-2045-18_0mm.csv\n",
      "  3: Data/2022-06-07-2049-5_2mm.csv\n",
      "  4: Data/2022-06-07-2052-13_2mm.csv\n",
      "  5: Data/2022-06-07-2057-8_4mm.csv\n",
      "  6: Data/2022-06-07-2102-16_4mm.csv\n",
      "  7: Data/2022-06-07-2108-11_6mm.csv\n",
      "  8: Data/2022-06-07-2111-19_6mm.csv\n",
      "  9: Data/2022-06-07-2114-7_4mm.csv\n",
      " 10: Data/2022-06-07-2118-15_4mm.csv\n",
      " 11: Data/2022-06-07-2123-10_6mm.csv\n",
      " 12: Data/2022-06-07-2126-18_6mm.csv\n",
      " 13: Data/CPS_vs_D.csv\n",
      "Enter file number: 13\n",
      "Using Data/CPS_vs_D.csv\n",
      "There are 13 points\n",
      "Figures are Figures/CPS_vs_D_%.03d.png\n"
     ]
    }
   ],
   "source": [
    "files = glob(\"Data/*.csv\")\n",
    "files.sort()\n",
    "for (i, f) in enumerate(files):\n",
    "    print(f\"{i:3d}: {f}\")\n",
    "iFile = int(input(\"Enter file number: \"))\n",
    "dataFile = files[iFile]\n",
    "print(f\"Using {dataFile}\")\n",
    "\n",
    "# Check if data file from this test\n",
    "with open(dataFile, 'r') as fp:\n",
    "    line = fp.readline()\n",
    "\n",
    "data = np.genfromtxt(dataFile, delimiter=',', comments='#')\n",
    "D = data[:,0]\n",
    "avgCounts = data[:,1]\n",
    "uncCounts = data[:,2]\n",
    "nPoints = len(D)\n",
    "print(f\"There are {nPoints} points\")\n",
    "figName = \"Figures/\" + dataFile[dataFile.find('C'):dataFile.rfind('.')] + r\"_%.03d.png\"\n",
    "print(f\"Figures are {figName}\")\n",
    "iPlot = 0"
   ]
  },
  {
   "cell_type": "code",
   "execution_count": 20,
   "id": "be28cda9",
   "metadata": {},
   "outputs": [
    {
     "name": "stdout",
     "output_type": "stream",
     "text": [
      "Data/CPS_vs_D.csv\n",
      "Figures/CPS_vs_D_%.03d.png\n"
     ]
    }
   ],
   "source": [
    "print(dataFile)\n",
    "figName = \"Figures/\" + dataFile[dataFile.find('C'):dataFile.rfind('.')] + r\"_%.03d.png\"\n",
    "print(figName)"
   ]
  },
  {
   "cell_type": "code",
   "execution_count": 22,
   "id": "c2204a49",
   "metadata": {},
   "outputs": [
    {
     "data": {
      "image/png": "[encoded data removed]",
      "text/plain": [
       "<Figure size 432x288 with 1 Axes>"
      ]
     },
     "metadata": {
      "needs_background": "light"
     },
     "output_type": "display_data"
    }
   ],
   "source": [
    "fig = plt.figure()\n",
    "ax = fig.add_subplot(111)\n",
    "ax.plot(D, avgCounts, '.')\n",
    "ax.grid()\n",
    "ax.set_title(f\"Sensor Counts vs. Distance\")\n",
    "ax.set_xlabel(\"D (mm)\")\n",
    "ax.set_ylabel(\"Count per Sec [Hz]\")\n",
    "# ax.text(.02,.95, f\"Rate = {eng_str(avgCPS, uncCPS, n=1)} Hz\", transform=ax.transAxes)\n",
    "\n",
    "iPlot = 0\n",
    "fn = figName%iPlot\n",
    "#ax.text(1, 0.02,fn[8:], transform=fig.transFigure, ha='right', fontsize=5)\n",
    "fig.savefig(fn, dpi=150)\n",
    "iPlot += 1\n",
    "\n",
    "pass"
   ]
  },
  {
   "cell_type": "code",
   "execution_count": null,
   "id": "48ad1c69",
   "metadata": {},
   "outputs": [],
   "source": []
  }
 ],
 "metadata": {
  "kernelspec": {
   "display_name": "Python 3 (ipykernel)",
   "language": "python",
   "name": "python3"
  },
  "language_info": {
   "codemirror_mode": {
    "name": "ipython",
    "version": 3
   },
   "file_extension": ".py",
   "mimetype": "text/x-python",
   "name": "python",
   "nbconvert_exporter": "python",
   "pygments_lexer": "ipython3",
   "version": "3.8.11"
  }
 },
 "nbformat": 4,
 "nbformat_minor": 5
}
