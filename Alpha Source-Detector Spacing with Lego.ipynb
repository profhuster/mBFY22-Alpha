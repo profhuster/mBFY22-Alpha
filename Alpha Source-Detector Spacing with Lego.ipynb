{
 "cells": [
  {
   "cell_type": "code",
   "execution_count": 1,
   "metadata": {},
   "outputs": [
    {
     "name": "stdout",
     "output_type": "stream",
     "text": [
      "[0, 5], -22.4\n",
      "[0, 4], -19.2\n",
      "[0, 3], -16.0, 3.2\n",
      "[1, 5], -14.4, 1.6\n",
      "[0, 2], -12.8, 1.6\n",
      "[1, 4], -11.2, 1.6\n",
      "[0, 1], -9.6, 1.6\n",
      "[1, 3], -8.0, 1.6\n",
      "[0, 0], -6.4, 1.6\n",
      "[2, 5], -6.4, 0.0\n",
      "[1, 2], -4.8, 1.6\n",
      "[2, 4], -3.2, 1.6\n",
      "[1, 1], -1.6, 1.6\n",
      "[2, 3], -0.0, 1.6\n",
      "[1, 0], 1.6, 1.6\n",
      "[3, 5], 1.6, 0.0\n",
      "[2, 2], 3.2, 1.6\n",
      "[3, 4], 4.8, 1.6\n",
      "[2, 1], 6.4, 1.6\n",
      "[3, 3], 8.0, 1.6\n",
      "[2, 0], 9.6, 1.6\n",
      "[4, 5], 9.6, 0.0\n",
      "[3, 2], 11.2, 1.6\n",
      "[4, 4], 12.8, 1.6\n",
      "[3, 1], 14.4, 1.6\n",
      "[4, 3], 16.0, 1.6\n",
      "[3, 0], 17.6, 1.6\n",
      "[4, 2], 19.2, 1.6\n",
      "[4, 1], 22.4, 3.2\n",
      "[4, 0], 25.6, 3.2\n"
     ]
    }
   ],
   "source": [
    "import matplotlib.pyplot as plt\n",
    "import numpy as np\n",
    "from copy import deepcopy\n",
    "P = 8.0\n",
    "h = 3.2\n",
    "\n",
    "dxList = []\n",
    "for iP in range(5):\n",
    "    for ih in range(6):\n",
    "        dxList.append([iP, ih, iP * P - ih * h])\n",
    "dxList = sorted(dxList, key=lambda dxList: dxList[2])\n",
    "\n",
    "\n",
    "for (ix, dx) in enumerate(dxList):\n",
    "    print(f\"{dx[0:2]}, {dx[2]-6.4:.1f}\", end='')\n",
    "    if ix > 1:\n",
    "        print(f\", {dxList[ix][2] - dxList[ix-1][2]:.1f}\")\n",
    "    else:\n",
    "        print()"
   ]
  },
  {
   "cell_type": "code",
   "execution_count": 2,
   "metadata": {},
   "outputs": [],
   "source": [
    "pass"
   ]
  },
  {
   "cell_type": "markdown",
   "metadata": {},
   "source": [
    "## Sequence\n",
    "\n",
    "| P | h | x | dx | Comment |\n",
    "|---|---|---|---|---|\n",
    "|  0|  2|  0|  N/A| Starting configuration |\n",
    "|  1|  0|  1.6|  1.6||\n",
    "|  0|  3| 3.2 | 1.6 |\n",
    "|  1|  1| 4.8 | 1.6 |\n",
    "|  0|  4| 6.4 | 1.6 |\n",
    "|  1|  2| 8.0 | 1.6 |\n",
    "|  2|  0| 9.6 | 1.6 |\n",
    "|  1|  3|11.2 | 1.6 |\n",
    "|  2|  1|12.8 | 1.6 |\n",
    "|  1|  4|14.4 | 1.6 |\n",
    "|  2|  2|16.0 | 1.6 |\n",
    "\n"
   ]
  },
  {
   "cell_type": "code",
   "execution_count": 3,
   "metadata": {},
   "outputs": [
    {
     "name": "stdout",
     "output_type": "stream",
     "text": [
      "Printing 25 positions\n",
      "0: [0.0, 3.0, -0.0, 3.2]\n",
      "1: [1.0, 5.0, 1.6, 1.6]\n",
      "2: [0.0, 2.0, 3.2, 1.6]\n",
      "3: [1.0, 4.0, 4.8, 1.6]\n",
      "4: [0.0, 1.0, 6.4, 1.6]\n",
      "5: [1.0, 3.0, 8.0, 1.6]\n",
      "6: [0.0, 0.0, 9.6, 1.6]\n",
      "7: [1.0, 2.0, 11.2, 1.6]\n",
      "8: [2.0, 4.0, 12.8, 1.6]\n",
      "9: [1.0, 1.0, 14.4, 1.6]\n",
      "10: [2.0, 3.0, 16.0, 1.6]\n",
      "11: [1.0, 0.0, 17.6, 1.6]\n",
      "12: [2.0, 2.0, 19.2, 1.6]\n",
      "13: [3.0, 4.0, 20.8, 1.6]\n",
      "14: [2.0, 1.0, 22.4, 1.6]\n",
      "15: [3.0, 3.0, 24.0, 1.6]\n",
      "16: [2.0, 0.0, 25.6, 1.6]\n",
      "17: [3.0, 2.0, 27.2, 1.6]\n",
      "18: [4.0, 4.0, 28.8, 1.6]\n",
      "19: [3.0, 1.0, 30.4, 1.6]\n",
      "20: [4.0, 3.0, 32.0, 1.6]\n",
      "21: [3.0, 0.0, 33.6, 1.6]\n",
      "22: [4.0, 2.0, 35.2, 1.6]\n",
      "23: [4.0, 1.0, 38.4, 3.2]\n",
      "24: [4.0, 0.0, 41.6, 3.2]\n"
     ]
    }
   ],
   "source": [
    "dxListNew = deepcopy(dxList)\n",
    "\n",
    "for (i, dx) in enumerate(dxListNew):\n",
    "    if i == 0:\n",
    "        dx.append(0)\n",
    "    else:\n",
    "        dx.append(dx[2] - dxList[i-1][2])\n",
    "    # print(dx)\n",
    "dxListNew.pop(0)\n",
    "dxListNew.pop(0)\n",
    "dxListNew.pop(19)\n",
    "dxListNew.pop(13)\n",
    "dxListNew.pop(7)\n",
    "\n",
    "print(f\"Printing {len(dxListNew)} positions\")\n",
    "for (i, dx) in enumerate(dxListNew):\n",
    "    print(f\"{i}: [{dx[0]:.1f}, {dx[1]:.1f}, {dx[2]+9.6:.1f}, {dx[3]:.1f}]\")"
   ]
  },
  {
   "cell_type": "markdown",
   "metadata": {},
   "source": [
    "# Source-Detector Spacing with Lego\n",
    "\n",
    "Standard Lego brick are very nice for changing the distance between the \n",
    "the source and detector in an alpha particle air absorption measurement. \n",
    "The Lego bricks are made with very high precision. \n",
    "\n",
    "The height between layers of Lego bricks is H = 9.7 mm, and the pitch \n",
    "between the posts is P = 8.0 mm. Lego block also come in 1/3 height \n",
    "block of height h = 3.2 mm. We glue a short block on the *side* of a \n",
    "regular block, so we can set the horizontal distance in increments of \n",
    "P and h. \n",
    "![](./Figures/Lego_dimensions.png)"
   ]
  },
  {
   "cell_type": "code",
   "execution_count": 4,
   "metadata": {},
   "outputs": [],
   "source": [
    "h = 3.2\n",
    "ph = 1.7\n",
    "H = 9.6\n",
    "P = 8.0\n",
    "w = 4.8\n",
    "sp = (P-w)/2 # 1.6 = space on either side of peg\n",
    "\n",
    "def one():\n",
    "    one = np.array([\n",
    "         [   0,   H],\n",
    "         [ sp, H],\n",
    "         [ sp, H+ph],\n",
    "         [ P-sp, H+ph],\n",
    "         [ P-sp, H],\n",
    "         [ P, H],\n",
    "        ])\n",
    "    oneX = one[:,0]\n",
    "    oneY = one[:,1]\n",
    "    return np.array((oneX, oneY))\n",
    "\n",
    "def two():\n",
    "    (oneX, oneY) = one()\n",
    "    twoX = np.concatenate((oneX, oneX+P))\n",
    "    twoY = np.concatenate((oneY, oneY))\n",
    "    return np.array((twoX, twoY))\n",
    "\n",
    "def four():\n",
    "    (twoX, twoY) = two()\n",
    "    fourX = np.concatenate((twoX, twoX+2*P))\n",
    "    fourY = np.concatenate((twoY, twoY))\n",
    "    return np.array((fourX, fourY))\n",
    "\n",
    "def six():\n",
    "    (twoX, twoY) = two()\n",
    "    (fourX, fourY) = four()\n",
    "    sixX = np.concatenate((fourX, twoX+4*P))\n",
    "    sixY = np.concatenate((fourY, twoY))\n",
    "    return np.array((sixX, sixY))\n",
    "\n",
    "def sideOne():\n",
    "    sideOneX = np.array([-H, -H, -H-ph, -H-ph, -H, -H])\n",
    "    sideOneY = np.array([0, sp,  sp,  P-sp, P-sp, P])\n",
    "    return np.array((sideOneX, sideOneY))\n",
    "\n",
    "def thin():\n",
    "    thinX = np.array([-h, -h, -h-ph, -h-ph, -h, -h])\n",
    "    thinY = np.array([0, sp,  sp,  P-sp, P-sp, P])\n",
    "    return np.array((thinX, thinY))\n",
    "\n",
    "def cap():\n",
    "    capX = np.array([-2, -2])\n",
    "    capY = np.array([0,P])\n",
    "    return np.array((capX, capY))\n",
    "\n",
    "tColor = [\"darkgray\", \"gray\", \"lightgray\"]\n",
    "sColor = [\"limegreen\", \"springgreen\", \"greenyellow\", \"lightgreen\"]\n"
   ]
  },
  {
   "cell_type": "code",
   "execution_count": 5,
   "metadata": {},
   "outputs": [
    {
     "name": "stdout",
     "output_type": "stream",
     "text": [
      "-14.8 -11.600000000000001\n"
     ]
    },
    {
     "data": {
      "image/png": "[encoded data removed]",
      "text/plain": [
       "<Figure size 360x360 with 1 Axes>"
      ]
     },
     "metadata": {
      "needs_background": "light"
     },
     "output_type": "display_data"
    }
   ],
   "source": [
    "iTop = 0\n",
    "iThin = 2\n",
    "\n",
    "fig = plt.figure(figsize=(5,5))\n",
    "ax = plt.axes()\n",
    "\n",
    "def drawBase(axZ, yP=0.0):\n",
    "    # Draw base\n",
    "    (sixX, sixY) = six()\n",
    "    axZ.fill_between(sixX, sixY + yP, yP, color=\"skyblue\")\n",
    "\n",
    "def drawTop(axW, i4, yP=0.0):\n",
    "    \"\"\"drawTop: draws top 2x4 with thin 2x1 glued to its side.\"\"\"\n",
    "    xDrawW = i4 * P\n",
    "    # Draw 2 x 4\n",
    "    (fourX, fourY) = four()\n",
    "    axW.fill_between(xDrawW + fourX, len(fourY) * (H + yP,), fourY + H + yP, color=\"tomato\")\n",
    "\n",
    "    # Horizontal 2x1\n",
    "    ((thinX, thinY)) = thin()\n",
    "    axW.fill_betweenx(thinY+H+ph+0.5+yP, thinX+xDrawW, x2=xDrawW, color=\"dimgray\")\n",
    "\n",
    "def drawMount(axV, i4, iTh, yP=0.0):\n",
    "    # Draw full 2x1 if any\n",
    "    xi4 = i4 * P # offset for horizontal\n",
    "    i21 = iTh // 3\n",
    "    if i21:\n",
    "        xi21 = xi4 - h\n",
    "        ((sideOneX, sideOneY)) = sideOne()\n",
    "        axV.fill_betweenx(sideOneY+H+ph+0.5+yP, sideOneX+xi21, len(sideOneX) * (xi21,), color=\"gold\")\n",
    "    nTh = iTh - 3 * i21\n",
    "    for ii in range(nTh):\n",
    "        xii = xi4 - h - i21 * H - ii * h\n",
    "        ((thinX, thinY)) = thin()\n",
    "        axV.fill_betweenx(thinY+H+ph+0.5+yP, thinX+xii, x2=xii, color=tColor[ii])\n",
    "    # Draw cap\n",
    "    xCap = xi4 - h - i21 * H - nTh * h\n",
    "    \n",
    "    ((capX, capY)) = cap()\n",
    "    axV.fill_betweenx(capY+H+ph+0.5+yP, capX+xCap, x2=xCap, color='black')\n",
    "    \n",
    "drawBase(ax)\n",
    "drawTop(ax, iTop)        \n",
    "drawMount(ax, iTop, iThin)\n",
    "\n",
    "R0 = 0 * P - 3 * h - h - 2\n",
    "R  = iTop * P - iThin * h - h - 2\n",
    "print(R0, R)\n",
    "ax.plot((R0, R0), (0, 21), '--', color=\"black\")\n",
    "ax.plot((R, R), (0, 21), '--', color=\"gray\")\n",
    "ax.text(1, 1, f\"x = {R:.1f} mm, dx = {R - R0:.1f} mm\")\n",
    "ax.text(1, 10.5, f\"{iTop}, {iThin}\")\n",
    "ax.axis('equal')\n",
    "pass"
   ]
  },
  {
   "cell_type": "markdown",
   "metadata": {},
   "source": [
    "# Draw all combinations"
   ]
  },
  {
   "cell_type": "code",
   "execution_count": 10,
   "metadata": {},
   "outputs": [
    {
     "data": {
      "image/png": "[encoded data removed]",
      "text/plain": [
       "<Figure size 360x1080 with 1 Axes>"
      ]
     },
     "metadata": {
      "needs_background": "light"
     },
     "output_type": "display_data"
    }
   ],
   "source": [
    "fig = plt.figure(figsize=(5,15))\n",
    "ax=fig.add_axes([0,0,1,1])\n",
    "\n",
    "i0 = 16\n",
    "for iList in range(i0,i0+8):\n",
    "    yPlot = -25 * iList + 200 * (i0//8)\n",
    "    dx = dxListNew[iList]\n",
    "    iTop = dx[0]\n",
    "    iThin = dx[1]\n",
    "    drawBase(ax, yPlot)\n",
    "    drawTop(ax, iTop, yPlot)\n",
    "    drawMount(ax, iTop, iThin, yPlot)\n",
    "\n",
    "    R0 = 0 * P - 3 * h - h - 2\n",
    "    R  = iTop * P - iThin * h - h - 2\n",
    "    ax.plot((R0, R0), (yPlot + 0, yPlot + 21), '--', color=\"black\")\n",
    "    ax.plot((R, R), (yPlot + 0, yPlot + 21), '--', color=\"gray\")\n",
    "    ax.text(1, yPlot + 1, f\"x = {R - R0:.1f} mm\", \n",
    "            size=18, weight=\"bold\")\n",
    "    ax.text(1+iTop*P, yPlot + 10.5, f\"{iTop}, {iThin}\", \n",
    "            size=18, weight=\"bold\")\n",
    "ax.set_xlim(-20,70)\n",
    "ax.set_ylim(-175,25)\n",
    "ax.set_axis_off()\n",
    "# ax.axis('equal')\n",
    "fig.savefig(f\"Figures/DetectorSpacing{i0}-{i0+7}.png\", dpi=150)"
   ]
  },
  {
   "cell_type": "code",
   "execution_count": 7,
   "metadata": {},
   "outputs": [
    {
     "name": "stdout",
     "output_type": "stream",
     "text": [
      "65.2 80.0\n"
     ]
    }
   ],
   "source": [
    "xMin = -14.8\n",
    "xMax = 23.6 + 3 * h + 4 * P\n",
    "print(xMax, xMax - xMin)"
   ]
  },
  {
   "cell_type": "code",
   "execution_count": null,
   "metadata": {},
   "outputs": [],
   "source": []
  }
 ],
 "metadata": {
  "kernelspec": {
   "display_name": "Python 3 (ipykernel)",
   "language": "python",
   "name": "python3"
  },
  "language_info": {
   "codemirror_mode": {
    "name": "ipython",
    "version": 3
   },
   "file_extension": ".py",
   "mimetype": "text/x-python",
   "name": "python",
   "nbconvert_exporter": "python",
   "pygments_lexer": "ipython3",
   "version": "3.8.11"
  }
 },
 "nbformat": 4,
 "nbformat_minor": 2
}
