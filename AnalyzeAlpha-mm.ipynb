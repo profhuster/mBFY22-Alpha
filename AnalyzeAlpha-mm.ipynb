{
 "cells": [
  {
   "cell_type": "code",
   "execution_count": 1,
   "id": "960fe829",
   "metadata": {},
   "outputs": [],
   "source": [
    "import numpy as np\n",
    "import matplotlib.pyplot as plt\n",
    "from glob import glob\n",
    "from scipy.stats import poisson\n",
    "from scipy.stats import norm\n",
    "\n",
    "%matplotlib inline\n"
   ]
  },
  {
   "cell_type": "code",
   "execution_count": 80,
   "id": "82525d26",
   "metadata": {},
   "outputs": [
    {
     "name": "stdout",
     "output_type": "stream",
     "text": [
      "123.5 ± 3.5e3\n"
     ]
    }
   ],
   "source": [
    "from math import log10\n",
    "def eng_str(x, u=0, n=1):\n",
    "    \"\"\"Print formatted value and its uncertainty in engineering format\"\"\"\n",
    "    y = abs(x)\n",
    "    exponent = int(log10(y))\n",
    "    engr_exponent = exponent - exponent%3\n",
    "    z = y/10**engr_exponent\n",
    "    sign = '-' if x < 0 else ''\n",
    "    fmt = \"{z:.%df}\" % (n)\n",
    "    xStr = sign+fmt.format(z=z)\n",
    "    \n",
    "    # uncertainty\n",
    "    yU = abs(u)\n",
    "    zU = yU/10**engr_exponent\n",
    "    fmtU = \"{zU:.%df}\" % (n)\n",
    "    if engr_exponent != 0:\n",
    "        uStr = \" ± \"+fmtU.format(zU=zU)+'e'+str(engr_exponent)\n",
    "    else:\n",
    "        uStr = \" ± \"+fmtU.format(zU=zU)\n",
    "    return xStr + uStr\n",
    "\n",
    "print(eng_str(123456, 3456, n=1))"
   ]
  },
  {
   "cell_type": "code",
   "execution_count": 163,
   "id": "7b3e8f90",
   "metadata": {},
   "outputs": [
    {
     "name": "stdout",
     "output_type": "stream",
     "text": [
      "  0: Data/2022-06-07-2031-2_0mm.csv\n",
      "  1: Data/2022-06-07-2038-10_0mm.csv\n",
      "  2: Data/2022-06-07-2045-18_0mm.csv\n",
      "  3: Data/2022-06-07-2049-5_2mm.csv\n",
      "  4: Data/2022-06-07-2052-13_2mm.csv\n",
      "  5: Data/2022-06-07-2057-8_4mm.csv\n",
      "  6: Data/2022-06-07-2102-16_4mm.csv\n",
      "  7: Data/2022-06-07-2108-11_6mm.csv\n",
      "  8: Data/2022-06-07-2111-19_6mm.csv\n",
      "  9: Data/2022-06-07-2114-7_4mm.csv\n",
      " 10: Data/2022-06-07-2118-15_4mm.csv\n",
      " 11: Data/2022-06-07-2123-10_6mm.csv\n",
      " 12: Data/2022-06-07-2126-18_6mm.csv\n",
      " 13: Data/2022-06-08-1212-5_2mm.csv\n",
      " 14: Data/CPS_vs_D.csv\n",
      "Enter file number: 8\n",
      "Using Data/2022-06-07-2111-19_6mm.csv\n",
      "There are 103 points\n",
      "The average is 10.466\n"
     ]
    }
   ],
   "source": [
    "# Name of test to plot\n",
    "name = \"mm\"\n",
    "\n",
    "files = glob(\"Data/*.csv\")\n",
    "files.sort()\n",
    "for (i, f) in enumerate(files):\n",
    "    print(f\"{i:3d}: {f}\")\n",
    "iFile = int(input(\"Enter file number: \"))\n",
    "dataFile = files[iFile]\n",
    "print(f\"Using {dataFile}\")\n",
    "\n",
    "if name not in dataFile:\n",
    "    raise WrongTestFile(f\"Wrong test file for {name}\")\n",
    "\n",
    "# Get distance in mm\n",
    "D = float(dataFile[dataFile.rfind(\"-\")+1:dataFile.find(name)].replace('_', '.'))\n",
    "\n",
    "# Check if data file from this test\n",
    "with open(dataFile, 'r') as fp:\n",
    "    line = fp.readline()\n",
    "\n",
    "data = np.genfromtxt(dataFile, delimiter=',', comments='#')\n",
    "time = data[:,0] - data[0,0]\n",
    "counts = data[:,1]\n",
    "avgCounts = data[:,2]\n",
    "avgCPS = counts.mean()\n",
    "nPoints = len(time)\n",
    "print(f\"There are {nPoints} points\")\n",
    "print(f\"The average is {avgCPS:.3f}\")\n",
    "figName = \"Figures/\" + dataFile[dataFile.find('2'):dataFile.find('.')] + r\"_%.03d.png\"\n",
    "iPlot = 0"
   ]
  },
  {
   "cell_type": "code",
   "execution_count": 164,
   "id": "1494dedf",
   "metadata": {},
   "outputs": [
    {
     "data": {
      "text/plain": [
       "19.6"
      ]
     },
     "execution_count": 164,
     "metadata": {},
     "output_type": "execute_result"
    }
   ],
   "source": [
    "D = float(dataFile[dataFile.rfind(\"-\")+1:dataFile.find(name)].replace('_', '.'))\n",
    "print(D)"
   ]
  },
  {
   "cell_type": "markdown",
   "id": "f794e61a",
   "metadata": {},
   "source": [
    "# Setting Range of Good Data\n",
    "Sometimes there are bad points at the start or end of the data file, usually \n",
    "caused by light leaking in while adjusting something. First plot all of the \n",
    "data, then set the iG (i-good) array to restrict the plotting and analysis \n",
    "to the good data points."
   ]
  },
  {
   "cell_type": "code",
   "execution_count": 165,
   "id": "e7bbb765",
   "metadata": {},
   "outputs": [
    {
     "data": {
      "text/plain": [
       "(10.466019417475728, 0.45347508419970534)"
      ]
     },
     "execution_count": 165,
     "metadata": {},
     "output_type": "execute_result"
    }
   ],
   "source": [
    "iG = np.array(range(len(counts)))\n",
    "# iG = np.array(range(91))\n",
    "avgCPS = counts[iG].mean()\n",
    "uncCPS = counts[iG].std()/np.sqrt(len(iG))\n",
    "(avgCPS, uncCPS)"
   ]
  },
  {
   "cell_type": "code",
   "execution_count": 166,
   "id": "c2204a49",
   "metadata": {},
   "outputs": [
    {
     "name": "stdout",
     "output_type": "stream",
     "text": [
      "19.6, 10.466, 0.453\n"
     ]
    },
    {
     "data": {
      "image/png": "[encoded data removed]",
      "text/plain": [
       "<Figure size 432x288 with 1 Axes>"
      ]
     },
     "metadata": {
      "needs_background": "light"
     },
     "output_type": "display_data"
    }
   ],
   "source": [
    "fig = plt.figure()\n",
    "ax = fig.add_subplot(111)\n",
    "ax.plot(time[iG], counts[iG], '.')\n",
    "ax.plot((time[0],time[-1]), (avgCPS,avgCPS))\n",
    "ax.plot()\n",
    "ax.grid()\n",
    "ax.set_title(f\"Sensor Counts vs. Time, D = {D} mm\")\n",
    "ax.set_xlabel(\"Time (s)\")\n",
    "ax.set_ylabel(\"Count per Sec [Hz]\")\n",
    "ax.text(.02,.95, f\"Rate = {eng_str(avgCPS, uncCPS, n=1)} Hz\", transform=ax.transAxes)\n",
    "\n",
    "iPlot = 0\n",
    "fn = figName%iPlot\n",
    "ax.text(1, 0.02,fn[8:], transform=fig.transFigure, \\\n",
    "        ha='right', fontsize=5)\n",
    "fig.savefig(fn, dpi=150)\n",
    "iPlot += 1\n",
    "\n",
    "print(f\"{D:.1f}, {avgCPS:.3f}, {uncCPS:.3f}\")"
   ]
  },
  {
   "cell_type": "code",
   "execution_count": 167,
   "id": "01768788",
   "metadata": {},
   "outputs": [
    {
     "data": {
      "image/png": "[encoded data removed]",
      "text/plain": [
       "<Figure size 432x288 with 1 Axes>"
      ]
     },
     "metadata": {
      "needs_background": "light"
     },
     "output_type": "display_data"
    }
   ],
   "source": [
    "fig = plt.figure()\n",
    "ax = fig.add_subplot(111)\n",
    "# [yVals, xTmp, bars] = ax.hist(counts, bins=int(np.sqrt(nPoints)), \\\n",
    "#                               density=True, alpha=0.5)\n",
    "# myBins = np.array(range(int(max(counts+1))))\n",
    "[yVals, xTmp, bars] = ax.hist(counts[iG], \\\n",
    "                              density=True, alpha=0.5)\n",
    "ax.grid()\n",
    "ax.set_title(f\"Sensor Counts Histogram, D = {D} mm\")\n",
    "ax.set_xlabel(\"Counts per Second (Hz)\")\n",
    "ax.text(.02,.95, f\"Rate = {eng_str(avgCPS, uncCPS, n=1)} Hz\", transform=ax.transAxes)\n",
    "\n",
    "xVals = np.array(np.floor(0.5 * (xTmp[1:]+xTmp[:-1]))+0.5, dtype=int)\n",
    "plt.plot(xVals,poisson.pmf(xVals, avgCPS), '-og')\n",
    "\n",
    "iPlot = 1\n",
    "fn = figName%iPlot\n",
    "ax.text(1, 0.02,fn[8:], transform=fig.transFigure, \\\n",
    "        ha='right', fontsize=5)\n",
    "fig.savefig(fn, dpi=150)\n",
    "iPlot += 1\n",
    "pass"
   ]
  },
  {
   "cell_type": "code",
   "execution_count": null,
   "id": "48ad1c69",
   "metadata": {},
   "outputs": [],
   "source": []
  }
 ],
 "metadata": {
  "kernelspec": {
   "display_name": "Python 3 (ipykernel)",
   "language": "python",
   "name": "python3"
  },
  "language_info": {
   "codemirror_mode": {
    "name": "ipython",
    "version": 3
   },
   "file_extension": ".py",
   "mimetype": "text/x-python",
   "name": "python",
   "nbconvert_exporter": "python",
   "pygments_lexer": "ipython3",
   "version": "3.8.11"
  }
 },
 "nbformat": 4,
 "nbformat_minor": 5
}
